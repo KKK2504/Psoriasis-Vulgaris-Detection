{
 "cells": [
  {
   "cell_type": "code",
   "execution_count": 16,
   "metadata": {},
   "outputs": [
    {
     "name": "stdout",
     "output_type": "stream",
     "text": [
      "1/1 [==============================] - 2s 2s/step\n",
      "prediction [[9.9999785e-01 2.1887602e-06 1.0470209e-09]]\n",
      "Class index 0\n",
      "This Disease is : 0 Melanoma skin cancer\n",
      "\n",
      "Accuracy 0.99999785\n"
     ]
    }
   ],
   "source": [
    "from keras.models import load_model  # TensorFlow is required for Keras to work\n",
    "import cv2  # Install opencv-python\n",
    "import numpy as np\n",
    "\n",
    "# Load the model\n",
    "model = load_model(\"keras_Model.h5\", compile=False)\n",
    "\n",
    "\n",
    "# Load the labels\n",
    "class_names = open(\"labels.txt\", \"r\").readlines()\n",
    "\n",
    "\n",
    "#Path of the Image\n",
    "img_path=\"testps1.jpg\"\n",
    "\n",
    "image=cv2.imread(img_path)\n",
    "\n",
    "# Resize the raw image into (224-height,224-width) pixels\n",
    "image = cv2.resize(image, (224, 224), interpolation=cv2.INTER_AREA)\n",
    "\n",
    "# Make the image a numpy array and reshape it to the models input shape.\n",
    "image = np.asarray(image, dtype=np.float32).reshape(1, 224, 224, 3)\n",
    "\n",
    "# Normalize the image array\n",
    "image = (image / 127.5) - 1\n",
    "\n",
    "# Predicts the model\n",
    "prediction = model.predict(image)\n",
    "index = np.argmax(prediction)\n",
    "class_name = class_names[index]\n",
    "\n",
    "print(\"prediction\",prediction)\n",
    "\n",
    "confidence_score = prediction[0][index]\n",
    "print(\"Class index\",index)\n",
    "print(\"This Disease is :\",class_name)\n",
    "print(\"Accuracy\",confidence_score)\n"
   ]
  }
 ],
 "metadata": {
  "kernelspec": {
   "display_name": "Python 3",
   "language": "python",
   "name": "python3"
  },
  "language_info": {
   "codemirror_mode": {
    "name": "ipython",
    "version": 3
   },
   "file_extension": ".py",
   "mimetype": "text/x-python",
   "name": "python",
   "nbconvert_exporter": "python",
   "pygments_lexer": "ipython3",
   "version": "3.9.13"
  },
  "orig_nbformat": 4
 },
 "nbformat": 4,
 "nbformat_minor": 2
}
